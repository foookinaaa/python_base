{
 "cells": [
  {
   "cell_type": "code",
   "execution_count": null,
   "metadata": {},
   "outputs": [],
   "source": [
    "#strings"
   ]
  },
  {
   "cell_type": "code",
   "execution_count": 341,
   "metadata": {},
   "outputs": [
    {
     "name": "stdout",
     "output_type": "stream",
     "text": [
      "True\n",
      "False\n"
     ]
    }
   ],
   "source": [
    "#входит ли строка в строку\n",
    "print('abc' in 'abca')\n",
    "print('abce' in 'abca')"
   ]
  },
  {
   "cell_type": "code",
   "execution_count": 342,
   "metadata": {},
   "outputs": [
    {
     "name": "stdout",
     "output_type": "stream",
     "text": [
      "1\n",
      "-1\n"
     ]
    }
   ],
   "source": [
    "#индекс первого вхождения строки или -1\n",
    "print('cabcd'.find('abc'))\n",
    "print('cabcd'.find('aec'))"
   ]
  },
  {
   "cell_type": "code",
   "execution_count": 352,
   "metadata": {},
   "outputs": [
    {
     "name": "stdout",
     "output_type": "stream",
     "text": [
      "5\n"
     ]
    }
   ],
   "source": [
    "#индекс последнего вхождения строки или -1\n",
    "print('cabcdabcd'.rfind('abc'))"
   ]
  },
  {
   "cell_type": "code",
   "execution_count": 343,
   "metadata": {},
   "outputs": [
    {
     "name": "stdout",
     "output_type": "stream",
     "text": [
      "1\n"
     ]
    },
    {
     "ename": "ValueError",
     "evalue": "substring not found",
     "output_type": "error",
     "traceback": [
      "\u001b[1;31m---------------------------------------------------------------------------\u001b[0m",
      "\u001b[1;31mValueError\u001b[0m                                Traceback (most recent call last)",
      "\u001b[1;32m<ipython-input-343-13fabbfc196f>\u001b[0m in \u001b[0;36m<module>\u001b[1;34m\u001b[0m\n\u001b[0;32m      1\u001b[0m \u001b[1;31m#индекс первого вхождения строки или -1\u001b[0m\u001b[1;33m\u001b[0m\u001b[1;33m\u001b[0m\u001b[1;33m\u001b[0m\u001b[0m\n\u001b[0;32m      2\u001b[0m \u001b[0mprint\u001b[0m\u001b[1;33m(\u001b[0m\u001b[1;34m'cabcd'\u001b[0m\u001b[1;33m.\u001b[0m\u001b[0mindex\u001b[0m\u001b[1;33m(\u001b[0m\u001b[1;34m'abc'\u001b[0m\u001b[1;33m)\u001b[0m\u001b[1;33m)\u001b[0m\u001b[1;33m\u001b[0m\u001b[1;33m\u001b[0m\u001b[0m\n\u001b[1;32m----> 3\u001b[1;33m \u001b[0mprint\u001b[0m\u001b[1;33m(\u001b[0m\u001b[1;34m'cabcd'\u001b[0m\u001b[1;33m.\u001b[0m\u001b[0mindex\u001b[0m\u001b[1;33m(\u001b[0m\u001b[1;34m'aec'\u001b[0m\u001b[1;33m)\u001b[0m\u001b[1;33m)\u001b[0m\u001b[1;33m\u001b[0m\u001b[1;33m\u001b[0m\u001b[0m\n\u001b[0m",
      "\u001b[1;31mValueError\u001b[0m: substring not found"
     ]
    }
   ],
   "source": [
    "#индекс первого вхождения строки или error\n",
    "print('cabcd'.index('abc'))\n",
    "print('cabcd'.index('aec'))"
   ]
  },
  {
   "cell_type": "code",
   "execution_count": 344,
   "metadata": {},
   "outputs": [
    {
     "name": "stdout",
     "output_type": "stream",
     "text": [
      "True\n"
     ]
    }
   ],
   "source": [
    "#начинается ли строка с другой строки\n",
    "s = 'ahh kkk iii'\n",
    "print(s.startswith('ahh k'))"
   ]
  },
  {
   "cell_type": "code",
   "execution_count": 346,
   "metadata": {},
   "outputs": [
    {
     "name": "stdout",
     "output_type": "stream",
     "text": [
      "True\n"
     ]
    }
   ],
   "source": [
    "#начинается ли строка с другой любой строки из кортежа\n",
    "s = 'ahh kkk iii'\n",
    "print(s.startswith(('ahh k', 'ff', 'ffded')))"
   ]
  },
  {
   "cell_type": "code",
   "execution_count": 348,
   "metadata": {},
   "outputs": [
    {
     "name": "stdout",
     "output_type": "stream",
     "text": [
      "True\n"
     ]
    }
   ],
   "source": [
    "#заканчивается ли строка на другую строку (удлбно для проверки формата файла)\n",
    "s = 'iii.png'\n",
    "print(s.endswith('.png'))"
   ]
  },
  {
   "cell_type": "code",
   "execution_count": 350,
   "metadata": {},
   "outputs": [
    {
     "name": "stdout",
     "output_type": "stream",
     "text": [
      "2\n"
     ]
    }
   ],
   "source": [
    "# число непересекающихся вхождений одной строки в другую\n",
    "s = 'abacaba'\n",
    "print(s.count('aba'))"
   ]
  },
  {
   "cell_type": "code",
   "execution_count": 353,
   "metadata": {},
   "outputs": [
    {
     "data": {
      "text/plain": [
       "'ABACABA'"
      ]
     },
     "execution_count": 353,
     "metadata": {},
     "output_type": "execute_result"
    }
   ],
   "source": [
    "s.lower() # к нижнему регистру строку\n",
    "s.upper() # к верхнему регистру строку"
   ]
  },
  {
   "cell_type": "code",
   "execution_count": 354,
   "metadata": {},
   "outputs": [
    {
     "name": "stdout",
     "output_type": "stream",
     "text": [
      "1 1 bb 1 jj\n"
     ]
    }
   ],
   "source": [
    "# замена одного элемента строки на другой\n",
    "s = 'ab ab bb ab jj'\n",
    "print(s.replace('ab', '1'))"
   ]
  },
  {
   "cell_type": "code",
   "execution_count": 356,
   "metadata": {},
   "outputs": [
    {
     "name": "stdout",
     "output_type": "stream",
     "text": [
      "['ab', 'ab', 'bb', 'ab', 'jj']\n",
      "['ab', 'ab', 'bb ab jj']\n"
     ]
    }
   ],
   "source": [
    "# разделит строку по заданному разделителю\n",
    "print(s.split(' '))\n",
    "print(s.split(' ', 2)) #количество максимальных разделений"
   ]
  },
  {
   "cell_type": "code",
   "execution_count": 358,
   "metadata": {},
   "outputs": [
    {
     "name": "stdout",
     "output_type": "stream",
     "text": [
      "'  a, a, a'\n",
      "'a, a, a    '\n",
      "'a, a, a'\n"
     ]
    }
   ],
   "source": [
    "# чистит строку от лишних символов\n",
    "s = '  a, a, a    '\n",
    "print(repr(s.rstrip()))\n",
    "print(repr(s.lstrip()))\n",
    "print(repr(s.strip()))"
   ]
  },
  {
   "cell_type": "code",
   "execution_count": 360,
   "metadata": {},
   "outputs": [
    {
     "name": "stdout",
     "output_type": "stream",
     "text": [
      "'a, a, a'\n"
     ]
    }
   ],
   "source": [
    "# чистит строку от лишних символов\n",
    "s = 'a, a, a*'\n",
    "print(repr(s.strip('*')))"
   ]
  },
  {
   "cell_type": "code",
   "execution_count": 362,
   "metadata": {},
   "outputs": [
    {
     "name": "stdout",
     "output_type": "stream",
     "text": [
      "'1a2a3a4'\n"
     ]
    }
   ],
   "source": [
    "#вствить строку между всеми элементами\n",
    "s = map(str, [1, 2, 3, 4]) #сделать список строкой\n",
    "print(repr('a'.join(s)))"
   ]
  },
  {
   "cell_type": "code",
   "execution_count": 363,
   "metadata": {},
   "outputs": [
    {
     "name": "stdout",
     "output_type": "stream",
     "text": [
      "Moscow is the capital of Russia\n"
     ]
    }
   ],
   "source": [
    "#шаблон подстановки\n",
    "capital = 'London is the capital of GB' # общая фраза\n",
    "template = '{} is the capital of {}' # шаблон и подстановка\n",
    "print(template.format('Moscow', 'Russia'))\n"
   ]
  },
  {
   "cell_type": "code",
   "execution_count": 364,
   "metadata": {},
   "outputs": [
    {
     "name": "stdout",
     "output_type": "stream",
     "text": [
      "Moscow is the capital of Russia\n"
     ]
    }
   ],
   "source": [
    "#шаблон подстановки\n",
    "capital = 'London is the capital of GB' # общая фраза\n",
    "template = '{capital} is the capital of {country}' # шаблон и подстановка\n",
    "print(template.format(capital = 'Moscow', country = 'Russia'))"
   ]
  },
  {
   "cell_type": "markdown",
   "metadata": {},
   "source": [
    "Регулярные выражения"
   ]
  },
  {
   "cell_type": "code",
   "execution_count": 1,
   "metadata": {},
   "outputs": [
    {
     "name": "stdout",
     "output_type": "stream",
     "text": [
      "Hello\n",
      "world\n",
      "Hello\\nworld\n"
     ]
    }
   ],
   "source": [
    "# символы в строках\n",
    "x = 'Hello\\nworld'\n",
    "print(x)\n",
    "x = r'Hello\\nworld' #raw\n",
    "print(x)"
   ]
  },
  {
   "cell_type": "code",
   "execution_count": 4,
   "metadata": {},
   "outputs": [
    {
     "name": "stdout",
     "output_type": "stream",
     "text": [
      "<function match at 0x00000239BEEC9700>\n",
      "<function search at 0x00000239BEF133A0>\n",
      "<function findall at 0x00000239BEF135E0>\n",
      "<function sub at 0x00000239BEF13430>\n"
     ]
    }
   ],
   "source": [
    "#регулярные выражения\n",
    "import re\n",
    "\n",
    "print(re.match) #подходит ли данная строка под шаблон сначала\n",
    "print(re.search) #находит первую строку, которая подходит под шаблон\n",
    "print(re.findall) #находит все строки, которые подходят под шаблон\n",
    "print(re.sub) #заменить все строки, которые подходят под шаблон чем-то другим"
   ]
  },
  {
   "cell_type": "code",
   "execution_count": 5,
   "metadata": {},
   "outputs": [
    {
     "data": {
      "text/plain": [
       "<re.Match object; span=(0, 3), match='abc'>"
      ]
     },
     "execution_count": 5,
     "metadata": {},
     "output_type": "execute_result"
    }
   ],
   "source": [
    "#example\n",
    "pattern = r'abc'\n",
    "string = 'abcd'\n",
    "match_object = re.match(pattern, string)\n",
    "match_object #span=(0, 3) - с 0 по 3 элемент в строке находится наш шаблон"
   ]
  },
  {
   "cell_type": "code",
   "execution_count": 7,
   "metadata": {},
   "outputs": [
    {
     "name": "stdout",
     "output_type": "stream",
     "text": [
      "None\n"
     ]
    }
   ],
   "source": [
    "#example 2\n",
    "pattern = r'abc'\n",
    "string = 'babcd'\n",
    "match_object = re.match(pattern, string)\n",
    "print(match_object) #так как строка не начинается с нашего шаблона"
   ]
  },
  {
   "cell_type": "code",
   "execution_count": 8,
   "metadata": {},
   "outputs": [
    {
     "name": "stdout",
     "output_type": "stream",
     "text": [
      "<re.Match object; span=(1, 4), match='abc'>\n"
     ]
    }
   ],
   "source": [
    "#example 3\n",
    "pattern = r'abc'\n",
    "string = 'babcd'\n",
    "match_object = re.search(pattern, string)\n",
    "print(match_object) #span=(1, 4) - нашел вхождение шаблона в строку с 1 по 4 элементы"
   ]
  },
  {
   "cell_type": "code",
   "execution_count": 9,
   "metadata": {},
   "outputs": [
    {
     "name": "stdout",
     "output_type": "stream",
     "text": [
      "<re.Match object; span=(0, 3), match='acc'>\n"
     ]
    }
   ],
   "source": [
    "# [] - множество символов в шаблоне (хотя бы один подходит)\n",
    "#example 4\n",
    "pattern = r'a[abc]c'\n",
    "string = 'abc'\n",
    "string = 'aac'\n",
    "string = 'acc'\n",
    "match_object = re.match(pattern, string)\n",
    "print(match_object) #все строки подойдут под шаблон"
   ]
  },
  {
   "cell_type": "code",
   "execution_count": 10,
   "metadata": {},
   "outputs": [
    {
     "name": "stdout",
     "output_type": "stream",
     "text": [
      "['abc', 'aac', 'acc']\n",
      "111, 111, 111\n"
     ]
    }
   ],
   "source": [
    "#example 5\n",
    "pattern = r'a[abc]c'\n",
    "string = 'abc, aac, acc'\n",
    "match_all = re.findall(pattern, string)\n",
    "print(match_all) #нашли все вхождения шаблона внутри строки\n",
    "\n",
    "fixed_all = re.sub(pattern, '111', string) #заменим все вхождения шаблона на 111\n",
    "print(fixed_all)"
   ]
  },
  {
   "cell_type": "code",
   "execution_count": 13,
   "metadata": {},
   "outputs": [
    {
     "name": "stdout",
     "output_type": "stream",
     "text": [
      "<re.Match object; span=(0, 0), match=''>\n",
      "<re.Match object; span=(7, 9), match='a?'>\n"
     ]
    }
   ],
   "source": [
    "#поиск метасимволов\n",
    "pattern = r'a?' # так не найдет знак вопроса\n",
    "string = 'dfg yy a?'\n",
    "match_object = re.search(pattern, string)\n",
    "print(match_object) \n",
    "\n",
    "pattern = r'a\\?' #экранирование метасимвола\n",
    "string = 'dfg yy a?'\n",
    "match_object2 = re.search(pattern, string)\n",
    "print(match_object2)"
   ]
  },
  {
   "cell_type": "code",
   "execution_count": 14,
   "metadata": {},
   "outputs": [
    {
     "name": "stdout",
     "output_type": "stream",
     "text": [
      "['abc', 'aac', 'acc']\n"
     ]
    }
   ],
   "source": [
    "#example 6\n",
    "pattern = r'a[a-c]c' #диапазон символов\n",
    "string = 'abc, aac, acc'\n",
    "match_all = re.findall(pattern, string)\n",
    "print(match_all) "
   ]
  },
  {
   "cell_type": "code",
   "execution_count": null,
   "metadata": {},
   "outputs": [],
   "source": [
    "pattern = r'a[a-zA-Z]c' #все буквы алфавита\n",
    "pattern = r'a[^A-Z]c' #^ - не (не хотим заглавные буквы вторым элементом)\n",
    "pattern = r'a[.]c' #. - любой один символ"
   ]
  },
  {
   "cell_type": "code",
   "execution_count": null,
   "metadata": {},
   "outputs": [],
   "source": [
    "pattern = r'ab*c' # хотим найти любое число символов b включая 0\n",
    "string = 'aa, abc, abbc, abbbc, ...'\n",
    "\n",
    "pattern = r'ab+c' # хотим найти любое число символов b не включая 0\n",
    "string = 'abc, abbc, abbbc, ...'\n",
    "\n",
    "pattern = r'ab?c' # хотим найти 0 or 1 символов b\n",
    "string = 'aa, abc'\n",
    "\n",
    "pattern = r'ab{3}c' # хотим найти 3 символов b\n",
    "string = 'abbbc'\n",
    "\n",
    "pattern = r'ab{2, 4}c' # хотим найти от 2 до 4 символов b\n",
    "string = 'abbc, abbbc, abbbbc'"
   ]
  },
  {
   "cell_type": "code",
   "execution_count": 17,
   "metadata": {},
   "outputs": [
    {
     "name": "stdout",
     "output_type": "stream",
     "text": [
      "<re.Match object; span=(0, 6), match='abaaba'>\n"
     ]
    }
   ],
   "source": [
    "#жадный поиск - берет максимум из возможных\n",
    "pattern = r'a[ab]+a'\n",
    "string = 'abaaba'\n",
    "print(re.match(pattern, string))"
   ]
  },
  {
   "cell_type": "code",
   "execution_count": 19,
   "metadata": {},
   "outputs": [
    {
     "name": "stdout",
     "output_type": "stream",
     "text": [
      "<re.Match object; span=(0, 3), match='aba'>\n",
      "['aba', 'aba']\n"
     ]
    }
   ],
   "source": [
    "#не жадный поиск - берет минимум из возможных\n",
    "pattern = r'a[ab]+?a'\n",
    "string = 'abaaba'\n",
    "print(re.match(pattern, string))\n",
    "print(re.findall(pattern, string)) #найдет повторы"
   ]
  },
  {
   "cell_type": "code",
   "execution_count": 22,
   "metadata": {},
   "outputs": [
    {
     "name": "stdout",
     "output_type": "stream",
     "text": [
      "<re.Match object; span=(0, 8), match='testtest'>\n"
     ]
    }
   ],
   "source": [
    "#группировка\n",
    "pattern = r'(test)*'\n",
    "string = 'test'\n",
    "string = 'testtest'\n",
    "print(re.match(pattern, string))"
   ]
  },
  {
   "cell_type": "code",
   "execution_count": 23,
   "metadata": {},
   "outputs": [
    {
     "name": "stdout",
     "output_type": "stream",
     "text": [
      "<re.Match object; span=(0, 8), match='texttest'>\n"
     ]
    }
   ],
   "source": [
    "#группировка ИЛИ\n",
    "pattern = r'(test|text)*'\n",
    "string = 'test'\n",
    "string = 'texttest'\n",
    "print(re.match(pattern, string))"
   ]
  },
  {
   "cell_type": "code",
   "execution_count": 25,
   "metadata": {},
   "outputs": [
    {
     "name": "stdout",
     "output_type": "stream",
     "text": [
      "None\n",
      "<re.Match object; span=(0, 4), match='TeXt'>\n"
     ]
    }
   ],
   "source": [
    "#игнор регистра букв\n",
    "print(re.match(r'text', 'TeXt'))\n",
    "print(re.match(r'text', 'TeXt', re.IGNORECASE))"
   ]
  },
  {
   "cell_type": "code",
   "execution_count": 26,
   "metadata": {},
   "outputs": [],
   "source": [
    "# считать все строки по одной из стандартного потока\n",
    "import sys\n",
    "\n",
    "for line in sys.stdin:\n",
    "    line = line.rstrip()"
   ]
  },
  {
   "cell_type": "code",
   "execution_count": null,
   "metadata": {},
   "outputs": [],
   "source": []
  }
 ],
 "metadata": {
  "kernelspec": {
   "display_name": "Python 3",
   "language": "python",
   "name": "python3"
  },
  "language_info": {
   "codemirror_mode": {
    "name": "ipython",
    "version": 3
   },
   "file_extension": ".py",
   "mimetype": "text/x-python",
   "name": "python",
   "nbconvert_exporter": "python",
   "pygments_lexer": "ipython3",
   "version": "3.8.3"
  }
 },
 "nbformat": 4,
 "nbformat_minor": 4
}
