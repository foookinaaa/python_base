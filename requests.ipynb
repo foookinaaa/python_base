{
 "cells": [
  {
   "cell_type": "code",
   "execution_count": 1,
   "metadata": {},
   "outputs": [],
   "source": [
    "import requests"
   ]
  },
  {
   "cell_type": "code",
   "execution_count": 2,
   "metadata": {},
   "outputs": [
    {
     "name": "stdout",
     "output_type": "stream",
     "text": [
      "200\n",
      "text/html\n"
     ]
    }
   ],
   "source": [
    "res = requests.get('https://docs.python.org/3.5/') #запрос странице\n",
    "print(res.status_code)\n",
    "print(res.headers['Content-Type']) #тип содержимого запроса (в нашем случае html)"
   ]
  },
  {
   "cell_type": "code",
   "execution_count": 7,
   "metadata": {},
   "outputs": [],
   "source": [
    "#print(res.content) #получить содержимое ответа на запрос\n",
    "#print(res.text) #если уверены, что там молько текстовые данные - получим html страницы"
   ]
  },
  {
   "cell_type": "code",
   "execution_count": null,
   "metadata": {},
   "outputs": [],
   "source": []
  },
  {
   "cell_type": "code",
   "execution_count": 10,
   "metadata": {},
   "outputs": [],
   "source": [
    "n = [{\"name\": \"B\", \"parents\": [\"A\", \"C\"]}, {\"name\": \"C\", \"parents\": [\"A\"]}, {\"name\": \"A\", \"parents\": []}, {\"name\": \"D\", \"parents\":[\"C\", \"F\"]}, {\"name\": \"E\", \"parents\":[\"D\"]}, {\"name\": \"F\", \"parents\":[]}]"
   ]
  },
  {
   "cell_type": "code",
   "execution_count": 13,
   "metadata": {},
   "outputs": [],
   "source": [
    "#graph\n",
    "def dfs(graph, start, visited=None):\n",
    "    if visited is None:\n",
    "        visited = set()\n",
    "    visited.add(start)\n",
    "    for next in graph[start] - visited:\n",
    "        dfs(graph, next, visited)\n",
    "    return visited"
   ]
  },
  {
   "cell_type": "code",
   "execution_count": 14,
   "metadata": {},
   "outputs": [
    {
     "name": "stdout",
     "output_type": "stream",
     "text": [
      "B : 1\n",
      "A : 5\n",
      "C : 4\n",
      "D : 2\n",
      "F : 3\n",
      "E : 1\n"
     ]
    }
   ],
   "source": [
    "for key in classes.keys():\n",
    "    print(key, ':', len(dfs(classes, key)))"
   ]
  },
  {
   "cell_type": "code",
   "execution_count": null,
   "metadata": {},
   "outputs": [],
   "source": []
  },
  {
   "cell_type": "code",
   "execution_count": 17,
   "metadata": {},
   "outputs": [
    {
     "name": "stdout",
     "output_type": "stream",
     "text": [
      "City?Moscow\n",
      "Current temperature in Moscow is 12.59\n"
     ]
    }
   ],
   "source": [
    "import requests\n",
    "city = input('City?')\n",
    "api_url = 'https://api.openweathermap.org/data/2.5/weather'\n",
    "\n",
    "params = {\n",
    "    'q': city, #'Saint Petersburg',\n",
    "    'appid': 'fe6c9ac08e96ecdd33f559f07bc59da7',\n",
    "    'units': 'metric'\n",
    "\n",
    "}\n",
    "\n",
    "res = requests.get(api_url, params = params)\n",
    "#print(res.status_code)\n",
    "#print(res.headers['Content-Type'])\n",
    "#print(res.json())\n",
    "data = res.json()\n",
    "template = 'Current temperature in {} is {}'\n",
    "print(template.format (city, data['main']['temp']))"
   ]
  },
  {
   "cell_type": "code",
   "execution_count": null,
   "metadata": {},
   "outputs": [],
   "source": []
  }
 ],
 "metadata": {
  "kernelspec": {
   "display_name": "Python 3",
   "language": "python",
   "name": "python3"
  },
  "language_info": {
   "codemirror_mode": {
    "name": "ipython",
    "version": 3
   },
   "file_extension": ".py",
   "mimetype": "text/x-python",
   "name": "python",
   "nbconvert_exporter": "python",
   "pygments_lexer": "ipython3",
   "version": "3.8.3"
  }
 },
 "nbformat": 4,
 "nbformat_minor": 4
}
